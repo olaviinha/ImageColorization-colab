{
  "nbformat": 4,
  "nbformat_minor": 0,
  "metadata": {
    "accelerator": "GPU",
    "colab": {
      "name": "DeOldify-ImageColorization.ipynb",
      "provenance": [],
      "collapsed_sections": [
        "rpL4hpuoK7JO"
      ],
      "toc_visible": true,
      "include_colab_link": true
    },
    "kernelspec": {
      "display_name": "Python 3",
      "language": "python",
      "name": "python3"
    },
    "language_info": {
      "codemirror_mode": {
        "name": "ipython",
        "version": 3
      },
      "file_extension": ".py",
      "mimetype": "text/x-python",
      "name": "python",
      "nbconvert_exporter": "python",
      "pygments_lexer": "ipython3",
      "version": "3.7.6"
    }
  },
  "cells": [
    {
      "cell_type": "markdown",
      "metadata": {
        "id": "view-in-github",
        "colab_type": "text"
      },
      "source": [
        "<a href=\"https://colab.research.google.com/github/olaviinha/ImageColorization-colab/blob/master/DeOldify_ImageColorization.ipynb\" target=\"_parent\"><img src=\"https://colab.research.google.com/assets/colab-badge.svg\" alt=\"Open In Colab\"/></a>"
      ]
    },
    {
      "cell_type": "markdown",
      "metadata": {
        "id": "VrVRp-vlJnZX",
        "colab_type": "text"
      },
      "source": [
        "# DeOldify Image Colorization Batch Processer\n",
        "\n",
        "This is a batch processor for [DeOldify](https://github.com/jantic/DeOldify) to be run in Google Colaboratory, using Google Drive as data storage.\n",
        "\n",
        "It colorizes all images in `input_dir` and saves the results to `output_dir`.\n",
        "\n",
        "#### Howto:\n",
        "*   Set all direcotries (`***_dir` variables under <i>Settings</i>) relative to your Google Drive root.\n",
        "*   Select <i>Runtime > Run all</i> from the menu.\n",
        "\n",
        "\n"
      ]
    },
    {
      "cell_type": "code",
      "metadata": {
        "id": "wsHERW7GwmsK",
        "colab_type": "code",
        "cellView": "form",
        "colab": {}
      },
      "source": [
        "#@title Mount Drive, clone repository and download pretrained models\n",
        "from os import path\n",
        "from google.colab import drive\n",
        "drive.mount('/content/drive')\n",
        "\n",
        "repoDir = \"/content/DeOldify\"\n",
        "!git clone https://github.com/jantic/DeOldify.git {repoDir}\n",
        "%cd {repoDir}\n",
        "!mkdir 'models'\n",
        "!wget https://www.dropbox.com/s/zkehq1uwahhbc2o/ColorizeArtistic_gen.pth?dl=0 -O ./models/ColorizeArtistic_gen.pth\n",
        "!wget https://www.dropbox.com/s/mwjep3vyqk5mkjc/ColorizeStable_gen.pth?dl=0 -O ./models/ColorizeStable_gen.pth"
      ],
      "execution_count": null,
      "outputs": []
    },
    {
      "cell_type": "code",
      "metadata": {
        "id": "bUJSd-xVjI6o",
        "colab_type": "code",
        "cellView": "form",
        "colab": {}
      },
      "source": [
        "#@title Settings\n",
        "#@markdown <pre><b>Directories</b> <font color=\"#888\">(relative to your Google Drive root)</font></pre>\n",
        "#drive_dir = \"ai\" #@param {type:\"string\"}\n",
        "input_dir = \"ai/image-colorization/input\" #@param {type: \"string\"}\n",
        "output_dir = \"ai/image-colorization/output\" #@param {type: \"string\"}\n",
        "#@markdown <pre><b>Colorization settings</b></pre>\n",
        "useArtistic = True #@param {type:\"boolean\"}\n",
        "render_factor = 30  #@param {type: \"slider\", min: 7, max: 40}\n",
        "drive_root = \"/content/drive/My Drive/\"\n",
        "source_path = drive_root+input_dir\n",
        "output_path = drive_root+output_dir"
      ],
      "execution_count": null,
      "outputs": []
    },
    {
      "cell_type": "markdown",
      "metadata": {
        "id": "rpL4hpuoK7JO",
        "colab_type": "text"
      },
      "source": [
        "### Setup"
      ]
    },
    {
      "cell_type": "code",
      "metadata": {
        "colab_type": "code",
        "id": "00_GcC_trpdE",
        "colab": {}
      },
      "source": [
        "from deoldify import device\n",
        "from deoldify.device_id import DeviceId\n",
        "device.set(device=DeviceId.GPU0)\n",
        "import torch\n",
        "if not torch.cuda.is_available():\n",
        "    print('GPU not available.')\n",
        "!pip install -r colab_requirements.txt\n",
        "import fastai\n",
        "from deoldify.visualize import *\n",
        "if useArtistic == False:\n",
        "  torch.backends.cudnn.benchmark = True\n",
        "colorizer = get_image_colorizer(artistic={useArtistic})\n",
        "from os import listdir\n",
        "from os.path import isfile, join\n",
        "pictures = [f for f in listdir(source_path) if isfile(join(source_path, f))]"
      ],
      "execution_count": null,
      "outputs": []
    },
    {
      "cell_type": "markdown",
      "metadata": {
        "id": "joF2_jWMK_MI",
        "colab_type": "text"
      },
      "source": [
        "###Colorize"
      ]
    },
    {
      "cell_type": "code",
      "metadata": {
        "id": "Omn3E2ZPdBOf",
        "colab_type": "code",
        "cellView": "form",
        "colab": {}
      },
      "source": [
        "#@title Show comparisons & save full resolution images to Drive\n",
        "for pic in pictures:\n",
        "  if pic is not None and pic !='':\n",
        "    pic_path = str(source_path)+\"/\"+pic\n",
        "    pic_out = str(output_path)+\"/\"+pic\n",
        "    image_path = colorizer.plot_transformed_image(path=pic_path, render_factor=render_factor, compare=True)\n",
        "    im = Image.open(image_path)\n",
        "    im.save(pic_out)\n",
        "  else:\n",
        "      print('Provide an image url and try again.')"
      ],
      "execution_count": null,
      "outputs": []
    }
  ]
}